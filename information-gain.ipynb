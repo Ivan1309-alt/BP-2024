{
 "cells": [
  {
   "cell_type": "code",
   "execution_count": 1,
   "metadata": {},
   "outputs": [],
   "source": [
    "import pandas as pd\n",
    "import numpy as np\n",
    "from sklearn.model_selection import train_test_split"
   ]
  },
  {
   "cell_type": "code",
   "execution_count": 2,
   "metadata": {},
   "outputs": [
    {
     "data": {
      "text/html": [
       "<div>\n",
       "<style scoped>\n",
       "    .dataframe tbody tr th:only-of-type {\n",
       "        vertical-align: middle;\n",
       "    }\n",
       "\n",
       "    .dataframe tbody tr th {\n",
       "        vertical-align: top;\n",
       "    }\n",
       "\n",
       "    .dataframe thead th {\n",
       "        text-align: right;\n",
       "    }\n",
       "</style>\n",
       "<table border=\"1\" class=\"dataframe\">\n",
       "  <thead>\n",
       "    <tr style=\"text-align: right;\">\n",
       "      <th></th>\n",
       "      <th>BadgesNo</th>\n",
       "      <th>AttemptCount</th>\n",
       "      <th>Ah1</th>\n",
       "      <th>Ah2</th>\n",
       "      <th>Ah3</th>\n",
       "      <th>ActivityHistory</th>\n",
       "      <th>OtherModules</th>\n",
       "      <th>AtRisk</th>\n",
       "      <th>Book</th>\n",
       "      <th>Choice</th>\n",
       "      <th>...</th>\n",
       "      <th>Feedback</th>\n",
       "      <th>Forum</th>\n",
       "      <th>Glossary</th>\n",
       "      <th>Lesson</th>\n",
       "      <th>Page</th>\n",
       "      <th>Quiz</th>\n",
       "      <th>Survey</th>\n",
       "      <th>Wiki</th>\n",
       "      <th>Workshop</th>\n",
       "      <th>Results</th>\n",
       "    </tr>\n",
       "  </thead>\n",
       "  <tbody>\n",
       "    <tr>\n",
       "      <th>0</th>\n",
       "      <td>0</td>\n",
       "      <td>1</td>\n",
       "      <td>0</td>\n",
       "      <td>0</td>\n",
       "      <td>0</td>\n",
       "      <td>0</td>\n",
       "      <td>1</td>\n",
       "      <td>1</td>\n",
       "      <td>1</td>\n",
       "      <td>1</td>\n",
       "      <td>...</td>\n",
       "      <td>0</td>\n",
       "      <td>0</td>\n",
       "      <td>0</td>\n",
       "      <td>0</td>\n",
       "      <td>2</td>\n",
       "      <td>1</td>\n",
       "      <td>0</td>\n",
       "      <td>0</td>\n",
       "      <td>0</td>\n",
       "      <td>0</td>\n",
       "    </tr>\n",
       "    <tr>\n",
       "      <th>1</th>\n",
       "      <td>1</td>\n",
       "      <td>2</td>\n",
       "      <td>6</td>\n",
       "      <td>0</td>\n",
       "      <td>0</td>\n",
       "      <td>1</td>\n",
       "      <td>2</td>\n",
       "      <td>1</td>\n",
       "      <td>3</td>\n",
       "      <td>1</td>\n",
       "      <td>...</td>\n",
       "      <td>1</td>\n",
       "      <td>2</td>\n",
       "      <td>1</td>\n",
       "      <td>0</td>\n",
       "      <td>7</td>\n",
       "      <td>2</td>\n",
       "      <td>1</td>\n",
       "      <td>1</td>\n",
       "      <td>1</td>\n",
       "      <td>0</td>\n",
       "    </tr>\n",
       "    <tr>\n",
       "      <th>2</th>\n",
       "      <td>2</td>\n",
       "      <td>1</td>\n",
       "      <td>6</td>\n",
       "      <td>6</td>\n",
       "      <td>1</td>\n",
       "      <td>3</td>\n",
       "      <td>3</td>\n",
       "      <td>0</td>\n",
       "      <td>4</td>\n",
       "      <td>1</td>\n",
       "      <td>...</td>\n",
       "      <td>2</td>\n",
       "      <td>3</td>\n",
       "      <td>1</td>\n",
       "      <td>1</td>\n",
       "      <td>12</td>\n",
       "      <td>5</td>\n",
       "      <td>1</td>\n",
       "      <td>1</td>\n",
       "      <td>1</td>\n",
       "      <td>1</td>\n",
       "    </tr>\n",
       "    <tr>\n",
       "      <th>3</th>\n",
       "      <td>2</td>\n",
       "      <td>1</td>\n",
       "      <td>6</td>\n",
       "      <td>6</td>\n",
       "      <td>1</td>\n",
       "      <td>3</td>\n",
       "      <td>4</td>\n",
       "      <td>0</td>\n",
       "      <td>4</td>\n",
       "      <td>1</td>\n",
       "      <td>...</td>\n",
       "      <td>2</td>\n",
       "      <td>3</td>\n",
       "      <td>1</td>\n",
       "      <td>1</td>\n",
       "      <td>12</td>\n",
       "      <td>5</td>\n",
       "      <td>1</td>\n",
       "      <td>1</td>\n",
       "      <td>1</td>\n",
       "      <td>1</td>\n",
       "    </tr>\n",
       "    <tr>\n",
       "      <th>4</th>\n",
       "      <td>1</td>\n",
       "      <td>3</td>\n",
       "      <td>0</td>\n",
       "      <td>0</td>\n",
       "      <td>0</td>\n",
       "      <td>0</td>\n",
       "      <td>2</td>\n",
       "      <td>1</td>\n",
       "      <td>3</td>\n",
       "      <td>1</td>\n",
       "      <td>...</td>\n",
       "      <td>1</td>\n",
       "      <td>2</td>\n",
       "      <td>1</td>\n",
       "      <td>0</td>\n",
       "      <td>7</td>\n",
       "      <td>2</td>\n",
       "      <td>1</td>\n",
       "      <td>1</td>\n",
       "      <td>0</td>\n",
       "      <td>0</td>\n",
       "    </tr>\n",
       "  </tbody>\n",
       "</table>\n",
       "<p>5 rows × 21 columns</p>\n",
       "</div>"
      ],
      "text/plain": [
       "   BadgesNo  AttemptCount  Ah1  Ah2  Ah3  ActivityHistory  OtherModules  \\\n",
       "0         0             1    0    0    0                0             1   \n",
       "1         1             2    6    0    0                1             2   \n",
       "2         2             1    6    6    1                3             3   \n",
       "3         2             1    6    6    1                3             4   \n",
       "4         1             3    0    0    0                0             2   \n",
       "\n",
       "   AtRisk  Book   Choice  ...  Feedback  Forum  Glossary  Lesson  Page  Quiz  \\\n",
       "0       1      1       1  ...         0      0         0       0     2     1   \n",
       "1       1      3       1  ...         1      2         1       0     7     2   \n",
       "2       0      4       1  ...         2      3         1       1    12     5   \n",
       "3       0      4       1  ...         2      3         1       1    12     5   \n",
       "4       1      3       1  ...         1      2         1       0     7     2   \n",
       "\n",
       "   Survey  Wiki  Workshop  Results  \n",
       "0       0     0         0        0  \n",
       "1       1     1         1        0  \n",
       "2       1     1         1        1  \n",
       "3       1     1         1        1  \n",
       "4       1     1         0        0  \n",
       "\n",
       "[5 rows x 21 columns]"
      ]
     },
     "execution_count": 2,
     "metadata": {},
     "output_type": "execute_result"
    }
   ],
   "source": [
    "data = pd.read_csv('final_data.csv', sep=';')\n",
    "data.head()"
   ]
  },
  {
   "cell_type": "code",
   "execution_count": 3,
   "metadata": {},
   "outputs": [
    {
     "data": {
      "text/plain": [
       "(1202, 21)"
      ]
     },
     "execution_count": 3,
     "metadata": {},
     "output_type": "execute_result"
    }
   ],
   "source": [
    "data.shape"
   ]
  },
  {
   "cell_type": "code",
   "execution_count": 4,
   "metadata": {},
   "outputs": [],
   "source": [
    "X = data[['BadgesNo','AttemptCount','Ah1','Ah2','Ah3','ActivityHistory','OtherModules','AtRisk','Book ', 'Choice', 'Data', 'Feedback','Forum','Glossary','Lesson','Page','Quiz','Survey','Wiki','Workshop'\n",
    "        ]]\n",
    "X.head()\n",
    "y = data['Results']"
   ]
  },
  {
   "cell_type": "code",
   "execution_count": 5,
   "metadata": {},
   "outputs": [],
   "source": [
    "train_x, test_x, train_y, test_y= train_test_split(data.drop(\"Results\",axis=1),data.Results,test_size=0.2,random_state=41)"
   ]
  },
  {
   "cell_type": "code",
   "execution_count": 6,
   "metadata": {},
   "outputs": [
    {
     "name": "stdout",
     "output_type": "stream",
     "text": [
      "(961, 20)\n",
      "0\n"
     ]
    }
   ],
   "source": [
    "from sklearn.feature_selection import VarianceThreshold\n",
    "constant_filter = VarianceThreshold(threshold=0)\n",
    "\n",
    "data_constant = constant_filter.fit_transform(train_x)\n",
    "print(data_constant.shape)\n",
    "\n",
    "constant_columns = [column for column in train_x.columns\n",
    "                    if column not in train_x.columns[constant_filter.get_support()]]\n",
    "\n",
    "print(len(constant_columns))\n",
    "\n",
    "for column in constant_columns:\n",
    "    print(column)"
   ]
  },
  {
   "cell_type": "code",
   "execution_count": 7,
   "metadata": {},
   "outputs": [
    {
     "data": {
      "text/plain": [
       "(1202, 21)"
      ]
     },
     "execution_count": 7,
     "metadata": {},
     "output_type": "execute_result"
    }
   ],
   "source": [
    "data_cons = data.drop(constant_columns,axis=1)\n",
    "data_cons.shape"
   ]
  },
  {
   "cell_type": "code",
   "execution_count": 8,
   "metadata": {},
   "outputs": [
    {
     "name": "stdout",
     "output_type": "stream",
     "text": [
      "(961, 20)\n",
      "0\n"
     ]
    }
   ],
   "source": [
    "qcons_filter = VarianceThreshold(threshold=0.01)\n",
    "\n",
    "data_qcons = qcons_filter.fit_transform(train_x)\n",
    "print(data_qcons.shape)\n",
    "\n",
    "qcons_columns = [column for column in train_x.columns\n",
    "                    if column not in train_x.columns[qcons_filter.get_support()]]\n",
    "\n",
    "print(len(qcons_columns))\n",
    "\n",
    "for column in qcons_columns:\n",
    "    print(column)"
   ]
  },
  {
   "cell_type": "code",
   "execution_count": 9,
   "metadata": {},
   "outputs": [
    {
     "data": {
      "text/plain": [
       "(1202, 21)"
      ]
     },
     "execution_count": 9,
     "metadata": {},
     "output_type": "execute_result"
    }
   ],
   "source": [
    "data_qcons = data.drop(qcons_columns,axis=1)\n",
    "data_qcons.shape"
   ]
  },
  {
   "cell_type": "code",
   "execution_count": 10,
   "metadata": {},
   "outputs": [
    {
     "data": {
      "text/plain": [
       "(21, 1202)"
      ]
     },
     "execution_count": 10,
     "metadata": {},
     "output_type": "execute_result"
    }
   ],
   "source": [
    "data_qcons_t = data_qcons.T\n",
    "data_qcons_t.shape"
   ]
  },
  {
   "cell_type": "code",
   "execution_count": 11,
   "metadata": {},
   "outputs": [
    {
     "name": "stdout",
     "output_type": "stream",
     "text": [
      "0\n"
     ]
    }
   ],
   "source": [
    "print(data_qcons_t.duplicated().sum())"
   ]
  },
  {
   "cell_type": "code",
   "execution_count": 12,
   "metadata": {},
   "outputs": [
    {
     "data": {
      "text/plain": [
       "(1202, 21)"
      ]
     },
     "execution_count": 12,
     "metadata": {},
     "output_type": "execute_result"
    }
   ],
   "source": [
    "data_cons_dup = data_qcons_t.drop_duplicates(keep='first').T\n",
    "data_cons_dup.shape"
   ]
  },
  {
   "cell_type": "code",
   "execution_count": 13,
   "metadata": {},
   "outputs": [
    {
     "name": "stdout",
     "output_type": "stream",
     "text": [
      "BadgesNo  is not correlated  with  AttemptCount\n",
      "BadgesNo  is highly  correlated  with  ActivityHistory\n",
      "BadgesNo  is highly  correlated  with  AtRisk\n",
      "BadgesNo  is highly  correlated  with  Feedback\n",
      "BadgesNo  is highly  correlated  with  Forum\n",
      "BadgesNo  is highly  correlated  with  Lesson\n",
      "BadgesNo  is highly  correlated  with  Page\n",
      "BadgesNo  is highly  correlated  with  Quiz\n",
      "AttemptCount  is not correlated  with  BadgesNo\n",
      "AttemptCount  is not correlated  with  Ah1\n",
      "AttemptCount  is not correlated  with  Ah2\n",
      "AttemptCount  is not correlated  with  Ah3\n",
      "AttemptCount  is not correlated  with  ActivityHistory\n",
      "AttemptCount  is not correlated  with  OtherModules\n",
      "AttemptCount  is not correlated  with  AtRisk\n",
      "AttemptCount  is not correlated  with  Book \n",
      "AttemptCount  is not correlated  with  Choice\n",
      "AttemptCount  is not correlated  with  Data\n",
      "AttemptCount  is not correlated  with  Feedback\n",
      "AttemptCount  is not correlated  with  Forum\n",
      "AttemptCount  is not correlated  with  Glossary\n",
      "AttemptCount  is not correlated  with  Lesson\n",
      "AttemptCount  is not correlated  with  Page\n",
      "AttemptCount  is not correlated  with  Quiz\n",
      "AttemptCount  is not correlated  with  Survey\n",
      "AttemptCount  is not correlated  with  Wiki\n",
      "AttemptCount  is not correlated  with  Workshop\n",
      "Ah1  is not correlated  with  AttemptCount\n",
      "Ah1  is highly  correlated  with  Ah2\n",
      "Ah1  is highly  correlated  with  ActivityHistory\n",
      "Ah1  is not correlated  with  Choice\n",
      "Ah1  is highly  correlated  with  Workshop\n",
      "Ah2  is not correlated  with  AttemptCount\n",
      "Ah2  is highly  correlated  with  Ah1\n",
      "Ah2  is highly  correlated  with  ActivityHistory\n",
      "Ah2  is highly  correlated  with  AtRisk\n",
      "Ah2  is not correlated  with  Choice\n",
      "Ah2  is highly  correlated  with  Workshop\n",
      "Ah3  is not correlated  with  AttemptCount\n",
      "Ah3  is highly  correlated  with  ActivityHistory\n",
      "Ah3  is highly  correlated  with  OtherModules\n",
      "Ah3  is highly  correlated  with  AtRisk\n",
      "Ah3  is not correlated  with  Choice\n",
      "Ah3  is highly  correlated  with  Data\n",
      "Ah3  is highly  correlated  with  Feedback\n",
      "Ah3  is highly  correlated  with  Lesson\n",
      "Ah3  is highly  correlated  with  Page\n",
      "Ah3  is highly  correlated  with  Quiz\n",
      "ActivityHistory  is highly  correlated  with  BadgesNo\n",
      "ActivityHistory  is not correlated  with  AttemptCount\n",
      "ActivityHistory  is highly  correlated  with  Ah1\n",
      "ActivityHistory  is highly  correlated  with  Ah2\n",
      "ActivityHistory  is highly  correlated  with  Ah3\n",
      "ActivityHistory  is highly  correlated  with  AtRisk\n",
      "ActivityHistory  is not correlated  with  Choice\n",
      "ActivityHistory  is highly  correlated  with  Data\n",
      "ActivityHistory  is highly  correlated  with  Feedback\n",
      "ActivityHistory  is highly  correlated  with  Lesson\n",
      "ActivityHistory  is highly  correlated  with  Page\n",
      "ActivityHistory  is highly  correlated  with  Quiz\n",
      "ActivityHistory  is highly  correlated  with  Workshop\n",
      "OtherModules  is not correlated  with  AttemptCount\n",
      "OtherModules  is highly  correlated  with  Ah3\n",
      "OtherModules  is not correlated  with  Choice\n",
      "OtherModules  is highly  correlated  with  Lesson\n",
      "OtherModules  is highly  correlated  with  Page\n",
      "OtherModules  is highly  correlated  with  Quiz\n",
      "AtRisk  is highly  correlated  with  BadgesNo\n",
      "AtRisk  is not correlated  with  AttemptCount\n",
      "AtRisk  is highly  correlated  with  Ah2\n",
      "AtRisk  is highly  correlated  with  Ah3\n",
      "AtRisk  is highly  correlated  with  ActivityHistory\n",
      "AtRisk  is not correlated  with  Choice\n",
      "AtRisk  is highly  correlated  with  Data\n",
      "AtRisk  is highly  correlated  with  Feedback\n",
      "AtRisk  is highly  correlated  with  Lesson\n",
      "AtRisk  is highly  correlated  with  Page\n",
      "AtRisk  is highly  correlated  with  Quiz\n",
      "Book   is not correlated  with  AttemptCount\n",
      "Book   is highly  correlated  with  Feedback\n",
      "Book   is highly  correlated  with  Forum\n",
      "Book   is highly  correlated  with  Glossary\n",
      "Book   is highly  correlated  with  Lesson\n",
      "Book   is highly  correlated  with  Page\n",
      "Book   is highly  correlated  with  Quiz\n",
      "Book   is highly  correlated  with  Survey\n",
      "Book   is highly  correlated  with  Wiki\n",
      "Choice  is not correlated  with  AttemptCount\n",
      "Choice  is not correlated  with  Ah1\n",
      "Choice  is not correlated  with  Ah2\n",
      "Choice  is not correlated  with  Ah3\n",
      "Choice  is not correlated  with  ActivityHistory\n",
      "Choice  is not correlated  with  OtherModules\n",
      "Choice  is not correlated  with  AtRisk\n",
      "Choice  is not correlated  with  Data\n",
      "Choice  is not correlated  with  Lesson\n",
      "Choice  is not correlated  with  Quiz\n",
      "Choice  is not correlated  with  Workshop\n",
      "Data  is not correlated  with  AttemptCount\n",
      "Data  is highly  correlated  with  Ah3\n",
      "Data  is highly  correlated  with  ActivityHistory\n",
      "Data  is highly  correlated  with  AtRisk\n",
      "Data  is not correlated  with  Choice\n",
      "Data  is highly  correlated  with  Lesson\n",
      "Data  is highly  correlated  with  Page\n",
      "Data  is highly  correlated  with  Quiz\n",
      "Feedback  is highly  correlated  with  BadgesNo\n",
      "Feedback  is not correlated  with  AttemptCount\n",
      "Feedback  is highly  correlated  with  Ah3\n",
      "Feedback  is highly  correlated  with  ActivityHistory\n",
      "Feedback  is highly  correlated  with  AtRisk\n",
      "Feedback  is highly  correlated  with  Book \n",
      "Feedback  is highly  correlated  with  Forum\n",
      "Feedback  is highly  correlated  with  Glossary\n",
      "Feedback  is highly  correlated  with  Lesson\n",
      "Feedback  is highly  correlated  with  Page\n",
      "Feedback  is highly  correlated  with  Quiz\n",
      "Feedback  is highly  correlated  with  Survey\n",
      "Feedback  is highly  correlated  with  Wiki\n",
      "Forum  is highly  correlated  with  BadgesNo\n",
      "Forum  is not correlated  with  AttemptCount\n",
      "Forum  is highly  correlated  with  Book \n",
      "Forum  is highly  correlated  with  Feedback\n",
      "Forum  is highly  correlated  with  Lesson\n",
      "Forum  is highly  correlated  with  Page\n",
      "Forum  is highly  correlated  with  Quiz\n",
      "Glossary  is not correlated  with  AttemptCount\n",
      "Glossary  is highly  correlated  with  Book \n",
      "Glossary  is highly  correlated  with  Feedback\n",
      "Glossary  is highly  correlated  with  Page\n",
      "Glossary  is highly  correlated  with  Quiz\n",
      "Glossary  is highly  correlated  with  Survey\n",
      "Glossary  is highly  correlated  with  Wiki\n",
      "Lesson  is highly  correlated  with  BadgesNo\n",
      "Lesson  is not correlated  with  AttemptCount\n",
      "Lesson  is highly  correlated  with  Ah3\n",
      "Lesson  is highly  correlated  with  ActivityHistory\n",
      "Lesson  is highly  correlated  with  OtherModules\n",
      "Lesson  is highly  correlated  with  AtRisk\n",
      "Lesson  is highly  correlated  with  Book \n",
      "Lesson  is not correlated  with  Choice\n",
      "Lesson  is highly  correlated  with  Data\n",
      "Lesson  is highly  correlated  with  Feedback\n",
      "Lesson  is highly  correlated  with  Forum\n",
      "Lesson  is highly  correlated  with  Page\n",
      "Lesson  is highly  correlated  with  Quiz\n",
      "Lesson  is highly  correlated  with  Survey\n",
      "Page  is highly  correlated  with  BadgesNo\n",
      "Page  is not correlated  with  AttemptCount\n",
      "Page  is highly  correlated  with  Ah3\n",
      "Page  is highly  correlated  with  ActivityHistory\n",
      "Page  is highly  correlated  with  OtherModules\n",
      "Page  is highly  correlated  with  AtRisk\n",
      "Page  is highly  correlated  with  Book \n",
      "Page  is highly  correlated  with  Data\n",
      "Page  is highly  correlated  with  Feedback\n",
      "Page  is highly  correlated  with  Forum\n",
      "Page  is highly  correlated  with  Glossary\n",
      "Page  is highly  correlated  with  Lesson\n",
      "Page  is highly  correlated  with  Quiz\n",
      "Page  is highly  correlated  with  Survey\n",
      "Page  is highly  correlated  with  Wiki\n",
      "Quiz  is highly  correlated  with  BadgesNo\n",
      "Quiz  is not correlated  with  AttemptCount\n",
      "Quiz  is highly  correlated  with  Ah3\n",
      "Quiz  is highly  correlated  with  ActivityHistory\n",
      "Quiz  is highly  correlated  with  OtherModules\n",
      "Quiz  is highly  correlated  with  AtRisk\n",
      "Quiz  is highly  correlated  with  Book \n",
      "Quiz  is not correlated  with  Choice\n",
      "Quiz  is highly  correlated  with  Data\n",
      "Quiz  is highly  correlated  with  Feedback\n",
      "Quiz  is highly  correlated  with  Forum\n",
      "Quiz  is highly  correlated  with  Glossary\n",
      "Quiz  is highly  correlated  with  Lesson\n",
      "Quiz  is highly  correlated  with  Page\n",
      "Quiz  is highly  correlated  with  Survey\n",
      "Quiz  is highly  correlated  with  Wiki\n",
      "Survey  is not correlated  with  AttemptCount\n",
      "Survey  is highly  correlated  with  Book \n",
      "Survey  is highly  correlated  with  Feedback\n",
      "Survey  is highly  correlated  with  Glossary\n",
      "Survey  is highly  correlated  with  Lesson\n",
      "Survey  is highly  correlated  with  Page\n",
      "Survey  is highly  correlated  with  Quiz\n",
      "Survey  is highly  correlated  with  Wiki\n",
      "Wiki  is not correlated  with  AttemptCount\n",
      "Wiki  is highly  correlated  with  Book \n",
      "Wiki  is highly  correlated  with  Feedback\n",
      "Wiki  is highly  correlated  with  Glossary\n",
      "Wiki  is highly  correlated  with  Page\n",
      "Wiki  is highly  correlated  with  Quiz\n",
      "Wiki  is highly  correlated  with  Survey\n"
     ]
    },
    {
     "name": "stdout",
     "output_type": "stream",
     "text": [
      "Workshop  is not correlated  with  AttemptCount\n",
      "Workshop  is highly  correlated  with  Ah1\n",
      "Workshop  is highly  correlated  with  Ah2\n",
      "Workshop  is highly  correlated  with  ActivityHistory\n",
      "Workshop  is not correlated  with  Choice\n"
     ]
    }
   ],
   "source": [
    "for i in range(0,len(train_x.columns)):\n",
    "    for j in  range(0,len(train_x.columns)):\n",
    "        if i!=j:\n",
    "            corr_1=np.abs(train_x[train_x.columns[i]].corr(train_x[train_x.columns[j]]))\n",
    "            if corr_1 <0.3:\n",
    "                print( train_x.columns[i] , \" is not correlated  with \", train_x.columns[j])\n",
    "            elif corr_1>0.75:\n",
    "                print( train_x.columns[i] , \" is highly  correlated  with \", train_x.columns[j])"
   ]
  },
  {
   "cell_type": "code",
   "execution_count": 14,
   "metadata": {},
   "outputs": [],
   "source": [
    "from sklearn.feature_selection import mutual_info_regression\n",
    "mi = mutual_info_regression(X, y);"
   ]
  },
  {
   "cell_type": "code",
   "execution_count": 15,
   "metadata": {},
   "outputs": [
    {
     "data": {
      "text/plain": [
       "<matplotlib.axes._subplots.AxesSubplot at 0x1ab339127c0>"
      ]
     },
     "execution_count": 15,
     "metadata": {},
     "output_type": "execute_result"
    },
    {
     "data": {
      "image/png": "[encoded data removed]",
      "text/plain": [
       "<Figure size 1080x720 with 1 Axes>"
      ]
     },
     "metadata": {
      "needs_background": "light"
     },
     "output_type": "display_data"
    }
   ],
   "source": [
    "mi = pd.Series(mi)\n",
    "mi.index = X.columns\n",
    "mi.sort_values(ascending=False)\n",
    "mi.sort_values(ascending=False).plot.bar(figsize=(15, 10))"
   ]
  }
 ],
 "metadata": {
  "kernelspec": {
   "display_name": "Python 3 (ipykernel)",
   "language": "python",
   "name": "python3"
  },
  "language_info": {
   "codemirror_mode": {
    "name": "ipython",
    "version": 3
   },
   "file_extension": ".py",
   "mimetype": "text/x-python",
   "name": "python",
   "nbconvert_exporter": "python",
   "pygments_lexer": "ipython3",
   "version": "3.8.18"
  }
 },
 "nbformat": 4,
 "nbformat_minor": 4
}
